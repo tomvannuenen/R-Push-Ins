{
 "cells": [
  {
   "cell_type": "markdown",
   "id": "9af42e1e-d6cd-4b20-82a4-2ed0117a3aae",
   "metadata": {
    "tags": []
   },
   "source": [
    "# R Introduction Push-In\n",
    "The goal of this Push-In is to provide a light introduction to R. We aim to build up to data frames, which are one of the most commonly used data structures in R."
   ]
  },
  {
   "cell_type": "markdown",
   "id": "607ddc51-fd64-4e83-a77e-efc34bd18ab7",
   "metadata": {},
   "source": [
    "# Section 1. Jupyter Notebooks\n",
    "\n",
    "This course will be using a Jupyter Notebook to interact with R.  The bit of extra setup is well worth it because the Notebook provides code completion and other helpful features.\n",
    "\n",
    "Jupyter Notebooks are included in the Anaconda distribution which you installed. Notebook files have the extension \".ipynb\" to distinguish them.\n",
    "\n",
    "## Download the training material\n",
    "\n",
    "1. Go to our GitHub repo. The URL is [**https://github.com/dlab-berkeley/R-Push-Ins**](https://github.com/dlab-berkeley/R-Push-Ins)\n",
    "2. Click on the green button in the top right that says \"Clone or download\".\n",
    "3. Click \"Download ZIP\".\n",
    "4. Unzip the file.\n",
    "5. Move the unzipped `R-Push-Ins` to your Desktop.\n",
    "\n",
    "## Open Jupyter Notebook\n",
    "\n",
    "1. Open the Anaconda Navigator program on your computer.\n",
    "2. Open Jupyter Notebook from there.\n",
    "3. Navigate to the `R-Push-Ins` folder. Depending on what your home directory is, this most likely mean clicking the \"Desktop\" folder, at which point `R-Push-Ins` should be visible.\n",
    "4. Click on `R-Push-Ins`.\n",
    "5. Click on `Lessons` -> Lesson 1.\n",
    "\n",
    "This will start a Jupyter Notebook server and open your default web browser.\n",
    "\n",
    "- The server runs locally on your machine only and does not use an internet connection.\n",
    "- The server sends messages to your browser.\n",
    "- The server does the work and the web browser renders the notebook.\n",
    "- You can type code into the browser and see the result when the web page talks to the server.\n",
    "\n",
    "Using Jupyter notebooks has several advantages:\n",
    "\n",
    "- You can easily type, edit, and copy and paste blocks of code.\n",
    "- Tab complete allows you to easily access the names of things you are using and learn more about them.\n",
    "- It allows you to annotate your code with links, different sized text, bullets, etc., to make it more accessible to you and your collaborators.\n",
    "- It allows you to display figures next to the code that produces them to tell a complete story of the analysis.\n",
    "- The notebook is stored as JSON but can be saved as a .py file if you would like to run it from the bash shell or a python interpreter.\n",
    "- Just like a webpage, the saved notebook looks different than what you see when it gets rendered by your browser."
   ]
  },
  {
   "cell_type": "markdown",
   "id": "ed670843-6a15-4323-a064-e9fcf888b9fc",
   "metadata": {},
   "source": [
    "## Navigating in Jupyter Notebook\n",
    "\n",
    "Jupyter Notebooks have more useful features for interactive use than the standard python interpreter, but they work in the same basic way: you type things and then execute them.\n",
    "\n",
    "Unlike many graphical systems, there is no button to run your code! Instead, **you run code using Shift-Enter**. This also moves you to the next box (or \"cell\") for code below the one you just ran (but this may change in the future)."
   ]
  },
  {
   "cell_type": "markdown",
   "id": "01a67f02-36b5-41ba-967a-bc318b55fe0b",
   "metadata": {
    "tags": []
   },
   "source": [
    "# Section 2: Variable Assignment\n",
    "\n",
    "Try assigning the value \"5\" to the variable 'number' and then run 'number'.\n",
    "To run a line of code, place your cursor on a line of runnable code and click the \"Run\" button or click Shift + Enter."
   ]
  },
  {
   "cell_type": "code",
   "execution_count": 1,
   "id": "3bdf4a6c-6013-4655-85d7-e85426be39c8",
   "metadata": {},
   "outputs": [
    {
     "data": {
      "text/html": [
       "5"
      ],
      "text/latex": [
       "5"
      ],
      "text/markdown": [
       "5"
      ],
      "text/plain": [
       "[1] 5"
      ]
     },
     "metadata": {},
     "output_type": "display_data"
    }
   ],
   "source": [
    "number <- 5\n",
    "number"
   ]
  },
  {
   "cell_type": "code",
   "execution_count": null,
   "id": "248b7094-601f-4f08-bcd9-f8b2c8fc6422",
   "metadata": {},
   "outputs": [],
   "source": [
    "## You can also use the '=' operator to do variable assignment. \n",
    "number = 5\n",
    "number"
   ]
  },
  {
   "cell_type": "markdown",
   "id": "e7feb352-8847-4a15-ba65-60aac0ed04b1",
   "metadata": {},
   "source": [
    "There are subtle differences between '<-' and '=', which won't matter in most cases. However, using '<-' is considered good code style. You want your code to adhere to good stylistic practices, since that makes it easier to read and use by other users."
   ]
  },
  {
   "cell_type": "code",
   "execution_count": null,
   "id": "4014839b-48d8-496c-8eec-83573813ad09",
   "metadata": {},
   "outputs": [],
   "source": [
    "## You can perform basic arithmetic in R:\n",
    "number + 1\n",
    "number - 2\n",
    "number * 3\n",
    "number / 4"
   ]
  },
  {
   "cell_type": "markdown",
   "id": "e654914b-f52a-4b5b-a5e3-74b8c263ba18",
   "metadata": {},
   "source": [
    "Use a hashtag to comment your code (e.g., write notes to your future self and your collaborators) to help keep your script organized. "
   ]
  },
  {
   "cell_type": "markdown",
   "id": "ffa988f6-cd35-4502-8197-8356e3d81901",
   "metadata": {},
   "source": [
    "# Section 3: Functions and Arguments\n",
    "**Functions** perform actions on inputs. They are followed by trailing round parentheses.\n",
    "\n",
    "**Arguments** are the inputs - values, expressions, text, entire datasets, etc. You tell a function what arguments it needs inside the parentheses. Sometimes, these arguments are \"named\". This is helpful when you need to enter multiple arguments: the names tell R which arguments correspond to what variables you're passing into the function."
   ]
  },
  {
   "cell_type": "code",
   "execution_count": 2,
   "id": "98ea3594-2f3e-4517-9d1d-5cf62dd56492",
   "metadata": {},
   "outputs": [
    {
     "data": {
      "text/html": [
       "'number'"
      ],
      "text/latex": [
       "'number'"
      ],
      "text/markdown": [
       "'number'"
      ],
      "text/plain": [
       "[1] \"number\""
      ]
     },
     "metadata": {},
     "output_type": "display_data"
    }
   ],
   "source": [
    "## Use the ls() function to see all of the variables you have defined.\n",
    "## Notice that ls() does not take any arguments!\n",
    "ls()"
   ]
  },
  {
   "cell_type": "code",
   "execution_count": null,
   "id": "511cecac-ba2d-4e5d-b479-8529667a4cb4",
   "metadata": {},
   "outputs": [],
   "source": [
    "## You can use the \"TAB\" key to autocomplete a variable.\n",
    "## Place your cursor after the 'b' in 'numb' below and press TAB.\n",
    "## This works for variables and functions alike.\n",
    "numb"
   ]
  },
  {
   "cell_type": "code",
   "execution_count": null,
   "id": "2f0f8fd6-6047-4c83-b175-d21a55022e12",
   "metadata": {},
   "outputs": [],
   "source": [
    "# The class() function tells the data class/type of the variable and requires one argument\n",
    "class(number)\n",
    "ls()"
   ]
  },
  {
   "cell_type": "code",
   "execution_count": null,
   "id": "2804d25e-6793-48d6-99fb-8ef62bc5d575",
   "metadata": {},
   "outputs": [],
   "source": [
    "## Removing Variables. rm() will remove a variable\n",
    "rm(number)\n",
    "ls()\n",
    "number # Error"
   ]
  },
  {
   "cell_type": "code",
   "execution_count": null,
   "id": "09d4698d-a607-4cb7-97ff-b3eae34a8002",
   "metadata": {},
   "outputs": [],
   "source": [
    "## Remove all variables with rm(list = ls()).\n",
    "## Notice that this is the first function we're using with a named argument!\n",
    "## Or, click the broom icon at top of 'Environment' pane.\n",
    "rm(list = ls()) \n",
    "ls()"
   ]
  },
  {
   "cell_type": "markdown",
   "id": "9b33ede4-80aa-41e4-8fb4-12a5af921d15",
   "metadata": {},
   "source": [
    "### Challenge 1: Variable Assignment\n",
    "Define three variables and then write a mathematical expression using only those variables.\n",
    "\n"
   ]
  },
  {
   "cell_type": "code",
   "execution_count": null,
   "id": "62463f31-8827-47cb-9fc9-493a5f364083",
   "metadata": {},
   "outputs": [],
   "source": [
    "# Your code here\n",
    "\n"
   ]
  },
  {
   "cell_type": "markdown",
   "id": "046acbb2-d091-4337-a1ab-125258603675",
   "metadata": {
    "tags": []
   },
   "source": [
    "# Section 4: Data Types\n",
    "\n",
    "There are five main types of data we will work with in R:\n",
    "1. numeric: decimals (the default for ALL numbers in R).\n",
    "2. integer: whole numbers (positive and negative, including zero).\n",
    "3. character: text strings (always wrapped in quotations).\n",
    "4. logical: TRUE or FALSE (1 or 0).\n",
    "5. factor: nominal or ordinal categorical type."
   ]
  },
  {
   "cell_type": "markdown",
   "id": "98beb970-9467-4e67-a3d6-1531051891be",
   "metadata": {},
   "source": [
    "## Section 4.1: Numerics\n",
    "Assign 5 to 'number' and check its class. \n",
    "\n"
   ]
  },
  {
   "cell_type": "code",
   "execution_count": null,
   "id": "9b5d8d22-f953-48e9-b18b-08ccececb9f8",
   "metadata": {},
   "outputs": [],
   "source": [
    "number <- 5\n",
    "number\n",
    "class(number)"
   ]
  },
  {
   "cell_type": "markdown",
   "id": "1623896b-9849-4cc4-a26b-fa81f829dadb",
   "metadata": {
    "tags": []
   },
   "source": [
    "## Section 4.2: Integers\n",
    "Coerce 'number' to integer type with the as.integer() function:"
   ]
  },
  {
   "cell_type": "code",
   "execution_count": null,
   "id": "d1a5b20d-2fd5-4710-97eb-0221c5bcc5b8",
   "metadata": {},
   "outputs": [],
   "source": [
    "number_int <- as.integer(number)\n",
    "number_int\n",
    "class(number_int)"
   ]
  },
  {
   "cell_type": "markdown",
   "id": "5e437454-4ceb-47b9-bea5-5dc83fc0f7ff",
   "metadata": {},
   "source": [
    "## Section 4.3: Characters\n",
    "Define welcome <- \"Welcome to the D-Lab\" and check its class:\n"
   ]
  },
  {
   "cell_type": "code",
   "execution_count": null,
   "id": "e2744193-3430-4807-9297-8725f41cc8d7",
   "metadata": {},
   "outputs": [],
   "source": [
    "welcome <- \"Welcome to the D-Lab\"\n",
    "class(welcome)\n",
    "ls()"
   ]
  },
  {
   "cell_type": "code",
   "execution_count": 3,
   "id": "fab7fb11-eb4e-4ce5-853a-6cf4e2cc7e91",
   "metadata": {},
   "outputs": [
    {
     "data": {
      "text/html": [
       "'I am hungry.'"
      ],
      "text/latex": [
       "'I am hungry.'"
      ],
      "text/markdown": [
       "'I am hungry.'"
      ],
      "text/plain": [
       "[1] \"I am hungry.\""
      ]
     },
     "metadata": {},
     "output_type": "display_data"
    },
    {
     "data": {
      "text/html": [
       "'I am hungry.'"
      ],
      "text/latex": [
       "'I am hungry.'"
      ],
      "text/markdown": [
       "'I am hungry.'"
      ],
      "text/plain": [
       "[1] \"I am hungry.\""
      ]
     },
     "metadata": {},
     "output_type": "display_data"
    }
   ],
   "source": [
    "## Single and double quotes work similarly:\n",
    "contraction <- 'I am hungry.'\n",
    "contraction\n",
    "\n",
    "contraction <- \"I am hungry.\"\n",
    "contraction"
   ]
  },
  {
   "cell_type": "code",
   "execution_count": null,
   "id": "0bf5bba7-c7fe-48ab-b8d7-3c363b20c070",
   "metadata": {},
   "outputs": [],
   "source": [
    "## You can nest single quotes inside of double quotes:\n",
    "contraction <- \"I'm hungry\"\n",
    "contraction\n",
    "\n",
    "## Or, you can use all single quotes along with escape characters:\n",
    "contraction <- 'I\\'m hungry'\n",
    "contraction"
   ]
  },
  {
   "cell_type": "markdown",
   "id": "2f92cc47-7342-4007-b04a-70497625109f",
   "metadata": {},
   "source": [
    "However, you cannot nest single quotes inside of single quotes."
   ]
  },
  {
   "cell_type": "markdown",
   "id": "096d0624-9339-4176-89c4-0fdb233da84f",
   "metadata": {},
   "source": [
    "## Section: 4.4 Logicals\n",
    "Logical data will check to see if a condition is TRUE (1) or FALSE (0).\n"
   ]
  },
  {
   "cell_type": "code",
   "execution_count": null,
   "id": "f4cb7bc8-835b-4db5-ad5e-720f88cb5d9c",
   "metadata": {},
   "outputs": [],
   "source": [
    "class(TRUE)\n",
    "class(FALSE)"
   ]
  },
  {
   "cell_type": "code",
   "execution_count": null,
   "id": "3c362aab-102a-4aeb-afbc-1acb80838014",
   "metadata": {},
   "outputs": [],
   "source": [
    "## Since TRUE and FALSE are stored as 1 and 0, they take on mathematical properties:\n",
    "TRUE + 2\n",
    "FALSE - 4"
   ]
  },
  {
   "cell_type": "code",
   "execution_count": null,
   "id": "adbff01b-d2fc-4a8d-9c08-015dbcfbf76a",
   "metadata": {},
   "outputs": [],
   "source": [
    "## Boolean data types evaluate whether a statement is TRUE. Check the following:\n",
    "FALSE < TRUE # less than\n",
    "TRUE >= TRUE # greater than or equal to\n",
    "FALSE == FALSE # equivalent to (equal to)\n",
    "\"Mac\" == \"mac\" # R is case sensitive\n",
    "FALSE != FALSE # not equivalent to (not equal to)\n",
    "\"PC\" != \"Windows\"\n",
    "\n"
   ]
  },
  {
   "cell_type": "code",
   "execution_count": null,
   "id": "30d11659-47ca-4186-b7c2-04cc4030c6a6",
   "metadata": {},
   "outputs": [],
   "source": [
    "## Boolean 'and' (all conditions must be satisfied):\n",
    "TRUE & TRUE \n",
    "TRUE & FALSE"
   ]
  },
  {
   "cell_type": "code",
   "execution_count": null,
   "id": "90f82467-d4fc-4214-89ca-d88df2dbebdc",
   "metadata": {},
   "outputs": [],
   "source": [
    "## Boolean \"or\" (just one condition must be satisfied):\n",
    "TRUE | TRUE \n",
    "TRUE | FALSE"
   ]
  },
  {
   "cell_type": "markdown",
   "id": "ac9c23b1-5583-488b-912f-f40ecd86cfcb",
   "metadata": {},
   "source": [
    "# Section 4.5: Factors\n",
    "\n",
    "A **factor** variable is a set of categorical or ordinal values. We won't cover factors in this Push-In, but check out our [Fundamentals](https://github.com/dlab-berkeley/R-Fundamentals) workshop to learn more!"
   ]
  },
  {
   "cell_type": "markdown",
   "id": "2a25b1d4-c469-4782-a639-88312a8d3293",
   "metadata": {},
   "source": [
    "### Challenge 2: Data type coercion\n",
    "Like `as.integer`, other \"as dot\" functions exist as well, such as `as.numeric`, `as.character`, `as.logical`, and `as.factor`.\n",
    "\n",
    "1. Define three variables: one numeric, one character, and one logical"
   ]
  },
  {
   "cell_type": "code",
   "execution_count": null,
   "id": "ea825ebb-fdfc-482a-969e-972602535da4",
   "metadata": {},
   "outputs": [],
   "source": [
    "# Your code here\n",
    "\n"
   ]
  },
  {
   "cell_type": "markdown",
   "id": "ca66a92a-4a4a-4e5c-803b-fe9f52105996",
   "metadata": {},
   "source": [
    "2. Can you convert numeric to integer type?\n",
    "3. Convert numeric to logical?\n",
    "4. Convert numeric to character?\n",
    "5. Convert logical to character?\n",
    "6. Convert character to numeric?\n"
   ]
  },
  {
   "cell_type": "code",
   "execution_count": null,
   "id": "f895cfac-da37-4f39-a0ed-9a97b23b3b97",
   "metadata": {},
   "outputs": [],
   "source": [
    "# Your code here\n",
    "\n",
    "\n"
   ]
  },
  {
   "cell_type": "markdown",
   "id": "78f8d706-b91c-43ca-9e91-912f714bb58c",
   "metadata": {},
   "source": [
    "# Section 5: Data Structures\n",
    "\n",
    "Data structures are useful ways of representing and organizing data in R. There are several data structures we can construct, but we'll focus on two:\n",
    "\n",
    "1. `c()`: ordered groupings of the SAME type of data (called \"vectors\").\n",
    "2. `data.frame()`: and ordered group of equal-length vectors; think of an Excel spreadsheet."
   ]
  },
  {
   "cell_type": "markdown",
   "id": "865971fd-3b34-45f3-9683-13f5f570603c",
   "metadata": {},
   "source": [
    "## Section 5.1: Vectors\n",
    "A vector is an ordered group of the *same* type of data. We can we can create vectors by \"concatenating\" data together with the `c()` function:\n"
   ]
  },
  {
   "cell_type": "code",
   "execution_count": null,
   "id": "cdade17a-dd8e-4b9e-bcac-43fcb80cd800",
   "metadata": {},
   "outputs": [],
   "source": [
    "vec <- c(2, 5, 8, 11, 14)\n",
    "vec"
   ]
  },
  {
   "cell_type": "markdown",
   "id": "fe18f8c9-8a92-4916-8f9d-5a33f366b28c",
   "metadata": {},
   "source": [
    "It does not matter what type the data is contained within the vector, as long as it is all the same:"
   ]
  },
  {
   "cell_type": "code",
   "execution_count": null,
   "id": "fe1c023a-5951-47dd-bf65-46f98f222bd0",
   "metadata": {},
   "outputs": [],
   "source": [
    "numeric_vector <- c(234, 31343, 78, 0.23, 0.0000002)\n",
    "numeric_vector\n",
    "class(numeric_vector)\n",
    "length(numeric_vector) # There are five elements in this vector."
   ]
  },
  {
   "cell_type": "markdown",
   "id": "1e69a8d7-e02e-46de-b451-7b75b258b929",
   "metadata": {},
   "source": [
    "### Indexing a vector\n",
    "To index a vector means to extract an element based on its position. For example, if we want to return just the third thing from \"numeric_vector\", we would use square brackets and type:\n",
    "\n"
   ]
  },
  {
   "cell_type": "code",
   "execution_count": null,
   "id": "0315ba34-3c8f-4c7c-96de-6392a8d5dcc2",
   "metadata": {},
   "outputs": [],
   "source": [
    "numeric_vector[3]"
   ]
  },
  {
   "cell_type": "markdown",
   "id": "5836128f-cb9c-4977-b167-9956e7879c98",
   "metadata": {},
   "source": [
    "When we want a numeric vector with entries separated by 1, we can also use the colon operator: \n",
    "\n"
   ]
  },
  {
   "cell_type": "code",
   "execution_count": null,
   "id": "e0da3875-d5af-4853-b8ba-fa4cc87321df",
   "metadata": {},
   "outputs": [],
   "source": [
    "colon_vector <- c(28:36)\n",
    "colon_vector "
   ]
  },
  {
   "cell_type": "markdown",
   "id": "f578c1b7-93eb-4ab3-a7e3-1bc8999329ed",
   "metadata": {},
   "source": [
    "Vectors can contain other types, too. Consider the following examples:"
   ]
  },
  {
   "cell_type": "code",
   "execution_count": 4,
   "id": "52e9c75d-46dd-46f7-beb2-6706ba4c877f",
   "metadata": {},
   "outputs": [
    {
     "data": {
      "text/html": [
       "<style>\n",
       ".list-inline {list-style: none; margin:0; padding: 0}\n",
       ".list-inline>li {display: inline-block}\n",
       ".list-inline>li:not(:last-child)::after {content: \"\\00b7\"; padding: 0 .5ex}\n",
       "</style>\n",
       "<ol class=list-inline><li>'Canada'</li><li>'United States'</li><li>'Mexico'</li></ol>\n"
      ],
      "text/latex": [
       "\\begin{enumerate*}\n",
       "\\item 'Canada'\n",
       "\\item 'United States'\n",
       "\\item 'Mexico'\n",
       "\\end{enumerate*}\n"
      ],
      "text/markdown": [
       "1. 'Canada'\n",
       "2. 'United States'\n",
       "3. 'Mexico'\n",
       "\n",
       "\n"
      ],
      "text/plain": [
       "[1] \"Canada\"        \"United States\" \"Mexico\"       "
      ]
     },
     "metadata": {},
     "output_type": "display_data"
    },
    {
     "data": {
      "text/html": [
       "'character'"
      ],
      "text/latex": [
       "'character'"
      ],
      "text/markdown": [
       "'character'"
      ],
      "text/plain": [
       "[1] \"character\""
      ]
     },
     "metadata": {},
     "output_type": "display_data"
    }
   ],
   "source": [
    "character_vector <- c(\"Canada\", \"United States\", \"Mexico\")\n",
    "character_vector\n",
    "class(character_vector)"
   ]
  },
  {
   "cell_type": "markdown",
   "id": "e06e0085-29dc-4a8c-bfe3-e72850fe36a6",
   "metadata": {
    "tags": []
   },
   "source": [
    "# Section 6: Data frames\n",
    "\n",
    "Why do we need a data frame? Think about datasets that you have seen before. For example, suppose we collected data on the characteristics of D-Lab Workshop learners. We might want to know the age, degree program, previous familiarity with programming, research interests, and likely many other attributes (variables). \n",
    "\n",
    "This kind of dataset is multidimensional. We have one row for each participant and a number of columns for each attribute we collect data on. If we had forty participants and collected 10 attributes for each participant, then we would have a 40 by 10 dataset.\n",
    "\n",
    "The data structure in R that is most suited for this kind of problem is the data frame. \n",
    "A data frame is an ordered group of equal-length vectors. They are the most common type of data structure used for data analyses. Most of the time when we load real data into R, we are loading that data into a data frame. \n",
    "\n",
    "Since they are vectors, each column can only contain the same data type, but columns of different types can be lined up next to each other.\n",
    "\n",
    "Meanwhile, rows can contain heterogeneous data.\n",
    "\n",
    "Let's create a data frame capturing some information about countries:\n",
    "\n",
    "\n"
   ]
  },
  {
   "cell_type": "markdown",
   "id": "53d8e0e8-6c24-4723-bde9-c23cbd663ba8",
   "metadata": {},
   "source": [
    "countries <- c(\"Canada\", \"Mexico\", \"United States\")\n",
    "populations <- c(10, 20, 30)\n",
    "areas <- c(30, 10, 20)\n"
   ]
  },
  {
   "cell_type": "code",
   "execution_count": null,
   "id": "2c4fe859-e60b-4371-9cbd-7958b21a738c",
   "metadata": {},
   "outputs": [],
   "source": [
    "## We can create the data frame with the data.frame() function.\n",
    "## The equal-length vectors are the arguments.\n",
    "## Notice that the name of each variable becomes the name of the column.\n",
    "df <- data.frame(countries, populations, areas)\n",
    "df"
   ]
  },
  {
   "cell_type": "code",
   "execution_count": null,
   "id": "a9264331-254e-4ca8-bfde-a12786dfa7ef",
   "metadata": {},
   "outputs": [],
   "source": [
    "## If we wanted to change the column names, we can specify that with the function argument:\n",
    "df <- data.frame(country = countries, population = populations, area = areas)\n",
    "df"
   ]
  },
  {
   "cell_type": "code",
   "execution_count": null,
   "id": "747fb415-aabe-45cb-b575-3561fce15b86",
   "metadata": {},
   "outputs": [],
   "source": [
    "## Check the compact structure of the data frame:\n",
    "str(df)"
   ]
  },
  {
   "cell_type": "code",
   "execution_count": null,
   "id": "8add12d8-74e1-47ff-a32d-8deefaa075ca",
   "metadata": {},
   "outputs": [],
   "source": [
    "## View the dimensions (nrow x ncol) of the data frame:\n",
    "dim(df) "
   ]
  },
  {
   "cell_type": "code",
   "execution_count": null,
   "id": "0e03fbdf-bc3c-4f4f-bbaf-47a0c9a3611e",
   "metadata": {},
   "outputs": [],
   "source": [
    "## View column names:\n",
    "colnames(df)"
   ]
  },
  {
   "cell_type": "code",
   "execution_count": null,
   "id": "e9f495f5-760a-4cd5-afed-6d7a8b0541cb",
   "metadata": {},
   "outputs": [],
   "source": [
    "## View row names (we did not change these and they default to character type):\n",
    "rownames(df)\n",
    "class(rownames(df))"
   ]
  },
  {
   "cell_type": "code",
   "execution_count": null,
   "id": "fe858c9d-a924-4726-bb96-2a4fc9829fe6",
   "metadata": {},
   "outputs": [],
   "source": [
    "## You can extract a single column with the $ operator:\n",
    "df$country"
   ]
  },
  {
   "cell_type": "code",
   "execution_count": null,
   "id": "f1b05d05-8c51-466e-a926-0294da1f777b",
   "metadata": {},
   "outputs": [],
   "source": [
    "## The $ operator can also be used to create new columns:\n",
    "df$density <- df$population / df$area\n",
    "df"
   ]
  },
  {
   "cell_type": "markdown",
   "id": "a5a130b4-7880-4df0-8506-ce4491fae36b",
   "metadata": {
    "tags": []
   },
   "source": [
    "### Challenge 3: Make your own data frame.\n",
    "1. Create a data frame that contains four different food items and three attributes for each: name, price, and quantity.\n",
    "2. Add a fourth column that calculates the total cost for each food item.\n",
    "3. What function could you use to calculate the total cost of all the fruits combined?"
   ]
  },
  {
   "cell_type": "code",
   "execution_count": null,
   "id": "721737c9-599d-4832-b538-2708a885a422",
   "metadata": {},
   "outputs": [],
   "source": [
    "# Your code here\n",
    "\n"
   ]
  },
  {
   "cell_type": "markdown",
   "id": "f89cda31-1feb-41c5-9119-6b84870736c9",
   "metadata": {},
   "source": [
    "This concludes the R Introduction Push-In!\n",
    "\n",
    "We encourage you to check out [R-Fundamentals](https://github.com/dlab-berkeley/R-Fundamentals) for a more detailed introduction into R.\n",
    "\n",
    "\n"
   ]
  }
 ],
 "metadata": {
  "kernelspec": {
   "display_name": "R",
   "language": "R",
   "name": "ir"
  },
  "language_info": {
   "codemirror_mode": "r",
   "file_extension": ".r",
   "mimetype": "text/x-r-source",
   "name": "R",
   "pygments_lexer": "r",
   "version": "4.1.1"
  }
 },
 "nbformat": 4,
 "nbformat_minor": 5
}
